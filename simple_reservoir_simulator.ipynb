{
 "cells": [
  {
   "cell_type": "code",
   "execution_count": 88,
   "id": "82ee2561-2ea5-4b21-b112-9f1e9ae0c4ce",
   "metadata": {},
   "outputs": [],
   "source": [
    "import numpy as np\n",
    "import pandas as pd\n",
    "import matplotlib.pyplot as plt"
   ]
  },
  {
   "cell_type": "code",
   "execution_count": 145,
   "id": "e8c55f55-bb1e-48f3-a304-9b44d83375fa",
   "metadata": {},
   "outputs": [],
   "source": [
    "nx, ny = 20, 20   # dimensions of the reservior space\n",
    "dx, dy = 100, 100   # the distance (in ft.) each cell in the grid block covers\n",
    "dt = .001            # This is the timestep in days that the model will iterate through\n",
    "nt = 1000000          # This is the total number of steps I want to simulate in this simple reservoir model\n",
    "\n",
    "# Reservoir properties\n",
    "\n",
    "k = 100  # permeability of the reservoir in (md)\n",
    "mu = 1.0    # Viscosity (cp)\n",
    "phi = .1    # porosity\n",
    "ct = 1e-6   # compressibility (psi^-1)\n",
    "\n",
    "# Conversion factor for field units\n",
    "alpha = (0.0002637 * k) / (phi * mu * ct)  # diffusivity in ft^2/day"
   ]
  },
  {
   "cell_type": "code",
   "execution_count": null,
   "id": "dc61dd6e-f191-4e7d-a462-1adbaa059adf",
   "metadata": {},
   "outputs": [],
   "source": [
    "# Initialize the Reservoir Pressure Grid\n",
    "P_init = 4000     #Initial pressure in (psi)\n",
    "P = np.ones((ny, nx)) * P_init\n",
    "\n",
    "# Add a pressure sink in the middle of the grid\n",
    "P[ny // 2, nx // 2] = 1000\n",
    "\n",
    "#Step through the time steps and simulate the flow through the reservoir grid\n",
    "for n in range(nt):\n",
    "    P_new = P.copy()\n",
    "    for i in range(1, ny - 1):      # rows (y-direction)\n",
    "        for j in range(1, nx - 1):  # columns (x-direction)\n",
    "            d2P_dx2 = (P[i, j+1] - 2*P[i, j] + P[i, j-1]) / dx**2\n",
    "            d2P_dy2 = (P[i+1, j] - 2*P[i, j] + P[i-1, j]) / dy**2\n",
    "            P_new[i, j] += alpha * dt * (d2P_dx2 + d2P_dy2)\n",
    "            \n",
    "    #Establish the boundary conditions to keep them fixed\n",
    "    P = P_new.copy()\n",
    "    P[0, :] = P_init\n",
    "    P[-1, :] = P_init\n",
    "    P[:, 0] = P_init\n",
    "    P[:, -1] = P_init"
   ]
  },
  {
   "cell_type": "code",
   "execution_count": null,
   "id": "8fdbe016-3516-4adb-8615-62631143861a",
   "metadata": {},
   "outputs": [],
   "source": [
    "# Helper function to plot pressure\n",
    "def plot_pressure(P, t):\n",
    "    plt.figure(figsize=(6, 5))\n",
    "    plt.imshow(P, cmap='viridis', origin='lower')\n",
    "    plt.colorbar(label='Pressure (psi)')\n",
    "    plt.title(f\"Pressure Distribution at Time = {t} days\")\n",
    "    plt.xlabel(\"x\")\n",
    "    plt.ylabel(\"y\")\n",
    "    plt.tight_layout()\n",
    "    plt.show()"
   ]
  },
  {
   "cell_type": "code",
   "execution_count": null,
   "id": "12ba7447-44cc-4da0-8d7c-1857569fa945",
   "metadata": {},
   "outputs": [],
   "source": [
    "plot_pressure(P, nt*dt)"
   ]
  },
  {
   "cell_type": "code",
   "execution_count": null,
   "id": "bb7a9cc6-a5eb-452d-8946-537492f27bdd",
   "metadata": {},
   "outputs": [],
   "source": [
    "P"
   ]
  }
 ],
 "metadata": {
  "kernelspec": {
   "display_name": "Python 3 (ipykernel)",
   "language": "python",
   "name": "python3"
  },
  "language_info": {
   "codemirror_mode": {
    "name": "ipython",
    "version": 3
   },
   "file_extension": ".py",
   "mimetype": "text/x-python",
   "name": "python",
   "nbconvert_exporter": "python",
   "pygments_lexer": "ipython3",
   "version": "3.9.13"
  }
 },
 "nbformat": 4,
 "nbformat_minor": 5
}
